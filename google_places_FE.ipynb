{
 "cells": [
  {
   "cell_type": "code",
   "execution_count": 15,
   "metadata": {},
   "outputs": [],
   "source": [
    "import pandas as pd\n",
    "import re\n",
    "from sklearn.feature_extraction.text import TfidfVectorizer\n",
    "from sklearn.metrics.pairwise import cosine_similarity\n",
    "from sklearn.model_selection import train_test_split\n",
    "import torch\n",
    "from transformers import BertModel, BertTokenizer\n",
    "import numpy as np"
   ]
  },
  {
   "cell_type": "code",
   "execution_count": 16,
   "metadata": {},
   "outputs": [],
   "source": [
    "# Expanded list of 100 categories\n",
    "categories = [\n",
    "    \"Restaurant\", \"Swimming Pool\", \"Tourist Attraction\", \"Museum\", \"Hotel\", \n",
    "    \"Park\", \"Hospital\", \"School\", \"University\", \"Library\", \n",
    "    \"Shopping Mall\", \"Cinema\", \"Zoo\", \"Theater\", \"Stadium\", \n",
    "    \"Airport\", \"Train Station\", \"Bus Station\", \"Beach\", \"Amusement Park\",\n",
    "    \"Bakery\", \"Bar\", \"Beauty Salon\", \"Bicycle Store\", \"Book Store\", \n",
    "    \"Bowling Alley\", \"Cafe\", \"Campground\", \"Car Dealer\", \"Car Rental\", \n",
    "    \"Car Repair\", \"Car Wash\", \"Casino\", \"Cemetery\", \"Church\", \n",
    "    \"City Hall\", \"Clothing Store\", \"Convenience Store\", \"Courthouse\", \"Dentist\", \n",
    "    \"Department Store\", \"Doctor\", \"Electronics Store\", \"Embassy\", \"Fire Station\", \n",
    "    \"Florist\", \"Funeral Home\", \"Furniture Store\", \"Gas Station\", \"Gym\", \n",
    "    \"Hair Care\", \"Hardware Store\", \"Home Goods Store\", \"Insurance Agency\", \"Jewelry Store\", \n",
    "    \"Laundry\", \"Lawyer\", \"Liquor Store\", \"Local Government Office\", \"Locksmith\", \n",
    "    \"Lodging\", \"Meal Delivery\", \"Meal Takeaway\", \"Mosque\", \"Movie Rental\", \n",
    "    \"Movie Theater\", \"Moving Company\", \"Night Club\", \"Painter\", \"Pet Store\", \n",
    "    \"Pharmacy\", \"Physiotherapist\", \"Plumber\", \"Police\", \"Post Office\", \n",
    "    \"Real Estate Agency\", \"Restaurant\", \"Roofing Contractor\", \"RV Park\", \"School\", \n",
    "    \"Shoe Store\", \"Shopping Mall\", \"Spa\", \"Stadium\", \"Storage\", \n",
    "    \"Store\", \"Subway Station\", \"Supermarket\", \"Synagogue\", \"Taxi Stand\", \n",
    "    \"Train Station\", \"Travel Agency\", \"University\", \"Veterinary Care\", \"Zoo\"\n",
    "]"
   ]
  },
  {
   "cell_type": "code",
   "execution_count": 17,
   "metadata": {},
   "outputs": [],
   "source": [
    "# Function to drop unnecessary columns\n",
    "def drop_columns(df):\n",
    "    columns_to_drop = [\n",
    "        'Friday', 'Saturday', 'Sunday', 'Monday', 'Tuesday', 'Wednesday', 'Thursday',\n",
    "        'city', 'verified', 'state', 'Friday_morning', 'Friday_afternoon', 'Friday_evening',\n",
    "        'Saturday_morning', 'Saturday_afternoon', 'Saturday_evening', 'Sunday_morning',\n",
    "        'Sunday_afternoon', 'Sunday_evening', 'Monday_morning', 'Monday_afternoon',\n",
    "        'Monday_evening', 'Tuesday_morning', 'Tuesday_afternoon', 'Tuesday_evening',\n",
    "        'Wednesday_morning', 'Wednesday_afternoon', 'Wednesday_evening', 'Thursday_morning',\n",
    "        'Thursday_afternoon', 'Thursday_evening', 'geo_cluster', 'place_id', 'place_link'\n",
    "    ]\n",
    "    df = df.drop(columns=columns_to_drop)\n",
    "    return df\n",
    "\n",
    "\n",
    "# Function to preprocess the data\n",
    "def preprocess_data(df):\n",
    "    df['phone_number'] = df['phone_number'].apply(lambda x: 1 if pd.notnull(x) and x != '' else 0)\n",
    "    df['website'] = df['website'].apply(lambda x: 1 if pd.notnull(x) and x != '' else 0)\n",
    "    def clean_name(name):\n",
    "        name = re.sub(r'[,/_]', ' ', name)\n",
    "        name = re.sub(r'(?<!^)(?=[A-Z])', ' ', name)\n",
    "        name = re.sub(r'\\d+', '', name)\n",
    "        name = name.lower()\n",
    "        return name\n",
    "    df['clean_name'] = df['name'].apply(clean_name)\n",
    "    return df\n"
   ]
  },
  {
   "cell_type": "code",
   "execution_count": 18,
   "metadata": {},
   "outputs": [],
   "source": [
    "\n",
    "# Function to get embeddings\n",
    "def get_embeddings(texts, model, tokenizer, batch_size=16):\n",
    "    embeddings = []\n",
    "    for i in range(0, len(texts), batch_size):\n",
    "        batch_texts = texts[i:i+batch_size]\n",
    "        inputs = tokenizer(batch_texts, return_tensors='pt', padding=True, truncation=True)\n",
    "        with torch.no_grad():\n",
    "            outputs = model(**inputs)\n",
    "        batch_embeddings = outputs.last_hidden_state.mean(dim=1).detach().numpy()\n",
    "        embeddings.extend(batch_embeddings)\n",
    "    return np.array(embeddings)"
   ]
  },
  {
   "cell_type": "code",
   "execution_count": 19,
   "metadata": {},
   "outputs": [],
   "source": [
    "# Function to assign categories based on similarity\n",
    "def assign_category(embedding, category_embeddings, threshold=0.4):\n",
    "    similarities = cosine_similarity(embedding.reshape(1, -1), category_embeddings).flatten()\n",
    "    max_sim_index = similarities.argmax()\n",
    "    max_sim_value = similarities.max()\n",
    "    if max_sim_value >= threshold:\n",
    "        return categories[max_sim_index]\n",
    "    else:\n",
    "        return \"\""
   ]
  },
  {
   "cell_type": "code",
   "execution_count": 20,
   "metadata": {},
   "outputs": [],
   "source": [
    "# Load the dataset\n",
    "file_path = './data.csv'\n",
    "df = pd.read_csv(file_path)\n",
    "\n",
    "# Drop unnecessary columns and preprocess the data\n",
    "df = drop_columns(df)\n",
    "train_df, test_df = train_test_split(df, test_size=0.3, random_state=42)\n",
    "train_df = preprocess_data(train_df)\n",
    "test_df = preprocess_data(test_df)"
   ]
  },
  {
   "cell_type": "code",
   "execution_count": 21,
   "metadata": {},
   "outputs": [],
   "source": [
    "# Load pre-trained BERT model and tokenizer\n",
    "model_name = 'bert-base-uncased'\n",
    "tokenizer = BertTokenizer.from_pretrained(model_name)\n",
    "model = BertModel.from_pretrained(model_name)"
   ]
  },
  {
   "cell_type": "code",
   "execution_count": 22,
   "metadata": {},
   "outputs": [],
   "source": [
    "category_embeddings = get_embeddings(categories, model, tokenizer)"
   ]
  },
  {
   "cell_type": "code",
   "execution_count": 23,
   "metadata": {},
   "outputs": [],
   "source": [
    "# Create a DataFrame for the categories\n",
    "categories_df = pd.DataFrame(categories, columns=['category'])\n",
    "categories_df['clean_category'] = categories_df['category'].apply(lambda x: x.lower())\n",
    "\n",
    "# Combine names and categories for TF-IDF vectorization\n",
    "combined_texts = train_df['clean_name'].tolist() + categories_df['clean_category'].tolist()\n",
    "\n",
    "# TF-IDF vectorization\n",
    "vectorizer = TfidfVectorizer()\n",
    "tfidf_matrix = vectorizer.fit_transform(combined_texts)\n",
    "\n",
    "# Split the TF-IDF matrix\n",
    "names_tfidf = tfidf_matrix[:len(train_df)]\n",
    "categories_tfidf = tfidf_matrix[len(train_df):]\n",
    "\n",
    "# Calculate cosine similarity\n",
    "similarity_matrix = cosine_similarity(names_tfidf, categories_tfidf)"
   ]
  },
  {
   "cell_type": "code",
   "execution_count": 24,
   "metadata": {},
   "outputs": [],
   "source": [
    "# Assign categories based on TF-IDF similarity\n",
    "def assign_category_tfidf(similarity_row, threshold=0.8):\n",
    "    max_sim_index = similarity_row.argmax()\n",
    "    max_sim_value = similarity_row.max()\n",
    "    if max_sim_value >= threshold:\n",
    "        return categories[max_sim_index]\n",
    "    else:\n",
    "        return None"
   ]
  },
  {
   "cell_type": "code",
   "execution_count": 25,
   "metadata": {},
   "outputs": [],
   "source": [
    "train_df['category_tfidf'] = [assign_category_tfidf(row) for row in similarity_matrix]"
   ]
  },
  {
   "cell_type": "code",
   "execution_count": 26,
   "metadata": {},
   "outputs": [],
   "source": [
    "# For names that don't meet the TF-IDF threshold, use BERT embeddings\n",
    "def categorize_with_fallback(df):\n",
    "    # Get indices of rows where category_tfidf is None\n",
    "    fallback_indices = df[df['category_tfidf'].isnull()].index\n",
    "    fallback_texts = df.loc[fallback_indices, 'clean_name'].tolist()\n",
    "\n",
    "    # Get embeddings for fallback texts\n",
    "    fallback_embeddings = get_embeddings(fallback_texts, model, tokenizer)\n",
    "    \n",
    "    # Assign categories based on BERT embeddings\n",
    "    fallback_categories = [assign_category(emb, category_embeddings) for emb in fallback_embeddings]\n",
    "    \n",
    "    # Update the dataframe with the fallback categories\n",
    "    df.loc[fallback_indices, 'category'] = fallback_categories\n",
    "    \n",
    "    # Fill remaining categories with the ones assigned by TF-IDF\n",
    "    df['category'].fillna(df['category_tfidf'], inplace=True)\n",
    "    \n",
    "    return df\n"
   ]
  },
  {
   "cell_type": "code",
   "execution_count": 27,
   "metadata": {},
   "outputs": [],
   "source": [
    "\n",
    "# Apply fallback categorization to both training and test sets\n",
    "train_df = categorize_with_fallback(train_df)\n",
    "#test_df = categorize_with_fallback(test_df)\n",
    "\n",
    "\n",
    "\n",
    "\n"
   ]
  },
  {
   "cell_type": "code",
   "execution_count": 32,
   "metadata": {},
   "outputs": [
    {
     "data": {
      "text/html": [
       "<div>\n",
       "<style scoped>\n",
       "    .dataframe tbody tr th:only-of-type {\n",
       "        vertical-align: middle;\n",
       "    }\n",
       "\n",
       "    .dataframe tbody tr th {\n",
       "        vertical-align: top;\n",
       "    }\n",
       "\n",
       "    .dataframe thead th {\n",
       "        text-align: right;\n",
       "    }\n",
       "</style>\n",
       "<table border=\"1\" class=\"dataframe\">\n",
       "  <thead>\n",
       "    <tr style=\"text-align: right;\">\n",
       "      <th></th>\n",
       "      <th>name</th>\n",
       "      <th>category</th>\n",
       "    </tr>\n",
       "  </thead>\n",
       "  <tbody>\n",
       "    <tr>\n",
       "      <th>2748</th>\n",
       "      <td>Secure Parking Souk Madinat Jumeirah</td>\n",
       "      <td>Movie Theater</td>\n",
       "    </tr>\n",
       "    <tr>\n",
       "      <th>7337</th>\n",
       "      <td>Go Blue Tours</td>\n",
       "      <td>Restaurant</td>\n",
       "    </tr>\n",
       "    <tr>\n",
       "      <th>4734</th>\n",
       "      <td>Emarat- Ameen</td>\n",
       "      <td>Mosque</td>\n",
       "    </tr>\n",
       "    <tr>\n",
       "      <th>13933</th>\n",
       "      <td>SRE</td>\n",
       "      <td>Doctor</td>\n",
       "    </tr>\n",
       "    <tr>\n",
       "      <th>4557</th>\n",
       "      <td>City Hall</td>\n",
       "      <td>nan</td>\n",
       "    </tr>\n",
       "    <tr>\n",
       "      <th>13529</th>\n",
       "      <td>Players Cars</td>\n",
       "      <td>School</td>\n",
       "    </tr>\n",
       "    <tr>\n",
       "      <th>12114</th>\n",
       "      <td>Hor al anz 4</td>\n",
       "      <td>Mosque</td>\n",
       "    </tr>\n",
       "    <tr>\n",
       "      <th>11453</th>\n",
       "      <td>Goodhome Appliances</td>\n",
       "      <td>Moving Company</td>\n",
       "    </tr>\n",
       "    <tr>\n",
       "      <th>5802</th>\n",
       "      <td>BISH Super Market</td>\n",
       "      <td>Moving Company</td>\n",
       "    </tr>\n",
       "    <tr>\n",
       "      <th>1251</th>\n",
       "      <td>Kashaf Pharmacy LLC</td>\n",
       "      <td>Pharmacy</td>\n",
       "    </tr>\n",
       "  </tbody>\n",
       "</table>\n",
       "</div>"
      ],
      "text/plain": [
       "                                       name        category\n",
       "2748   Secure Parking Souk Madinat Jumeirah   Movie Theater\n",
       "7337                          Go Blue Tours      Restaurant\n",
       "4734                          Emarat- Ameen          Mosque\n",
       "13933                                   SRE          Doctor\n",
       "4557                              City Hall             nan\n",
       "13529                          Players Cars          School\n",
       "12114                          Hor al anz 4          Mosque\n",
       "11453                   Goodhome Appliances  Moving Company\n",
       "5802                      BISH Super Market  Moving Company\n",
       "1251                    Kashaf Pharmacy LLC        Pharmacy"
      ]
     },
     "execution_count": 32,
     "metadata": {},
     "output_type": "execute_result"
    }
   ],
   "source": [
    "train_df[['name', 'category']].sample(10)"
   ]
  }
 ],
 "metadata": {
  "kernelspec": {
   "display_name": "Python 3 (ipykernel)",
   "language": "python",
   "name": "python3"
  },
  "language_info": {
   "codemirror_mode": {
    "name": "ipython",
    "version": 3
   },
   "file_extension": ".py",
   "mimetype": "text/x-python",
   "name": "python",
   "nbconvert_exporter": "python",
   "pygments_lexer": "ipython3",
   "version": "3.9.12"
  }
 },
 "nbformat": 4,
 "nbformat_minor": 2
}
